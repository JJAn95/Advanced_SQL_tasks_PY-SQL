{
 "cells": [
  {
   "cell_type": "markdown",
   "metadata": {
    "id": "sRW85nPMDWKb"
   },
   "source": [
    "В этой части проекта вам нужно написать несколько SQL-запросов в Jupyter Notebook. Эти задания проверят вручную, и вы получите комментарии к составленным запросам. \n",
    "\n",
    "Необходимые данные находятся в таблицах схемы `stackoverflow`. Не забудьте подключиться к базе с помощью SQLAlchemy. Вспомните инструкцию из урока 11 «Когортный анализ. Представление результатов» в теме 2 «Установка и настройка базы данных и клиента базы данных».. Пример кода для подключения к базе и выгрузки результатов вы найдёте и в этой тетрадке. \n",
    "\n",
    "Некоторые задания включают дополнительные вопросы — не пропустите их. На часть вопросов можно ответить текстом, а для некоторых понадобится визуализация. Помните, что результат запроса можно выгрузить в датафрейм. \n",
    "\n",
    "Чтобы ожидаемый результат было легче представить, мы добавили к каждому заданию небольшой фрагмент итоговой таблицы. В запросах вы можете использовать любые подходящие названия полей."
   ]
  },
  {
   "cell_type": "code",
   "execution_count": 1,
   "metadata": {
    "id": "nlZBlglMDWKe"
   },
   "outputs": [],
   "source": [
    "import pandas as pd\n",
    "import matplotlib.pyplot as plt\n",
    "from sqlalchemy import create_engine \n",
    "import seaborn as sns\n",
    "import matplotlib.pyplot as plt"
   ]
  },
  {
   "cell_type": "markdown",
   "metadata": {
    "id": "XnOE3n28DWKg"
   },
   "source": [
    "### Конфигурация для подключения к базе данных `data-analyst-advanced-sql`\n",
    "Эта база данных содержит схему `stackoverflow`, с которой вы будете работать в проекте"
   ]
  },
  {
   "cell_type": "code",
   "execution_count": 2,
   "metadata": {
    "id": "6p-yGp7qDWKg"
   },
   "outputs": [],
   "source": [
    "db_config = {\n",
    "    'user': 'praktikum_student', # имя пользователя\n",
    "    'pwd': 'Sdf4$2;d-d30pp', # пароль\n",
    "    'host': 'rc1b-wcoijxj3yxfsf3fs.mdb.yandexcloud.net',\n",
    "    'port': 6432, # порт подключения\n",
    "    'db': 'data-analyst-advanced-sql' # название базы данных\n",
    "}  \n",
    "\n",
    "connection_string = 'postgresql://{}:{}@{}:{}/{}'.format(\n",
    "    db_config['user'],\n",
    "    db_config['pwd'],\n",
    "    db_config['host'],\n",
    "    db_config['port'],\n",
    "    db_config['db'],\n",
    ")"
   ]
  },
  {
   "cell_type": "markdown",
   "metadata": {
    "id": "2Rg8ZpS0DWKh"
   },
   "source": [
    "Создание подключения"
   ]
  },
  {
   "cell_type": "code",
   "execution_count": 3,
   "metadata": {
    "id": "DamCUTR6DWKi"
   },
   "outputs": [],
   "source": [
    "engine = create_engine(connection_string) "
   ]
  },
  {
   "cell_type": "markdown",
   "metadata": {
    "id": "bel8XeSlDWKj"
   },
   "source": [
    "Пример запроса к базе данных\n",
    "\n",
    "`sample_df` является pandas-датафреймом."
   ]
  },
  {
   "cell_type": "code",
   "execution_count": 4,
   "metadata": {
    "id": "6Z_fw0yLDWKk"
   },
   "outputs": [],
   "source": [
    "query = '''\n",
    "SELECT *\n",
    "FROM stackoverflow.users\n",
    "LIMIT 10;\n",
    "'''\n",
    "\n",
    "sample_df = pd.read_sql_query(query, con=engine) "
   ]
  },
  {
   "cell_type": "code",
   "execution_count": 5,
   "metadata": {
    "id": "ZpuZ290oDWKk",
    "outputId": "22785a0a-e2bc-4559-ec3c-4879c4b377eb",
    "scrolled": true
   },
   "outputs": [
    {
     "data": {
      "text/html": [
       "<div>\n",
       "<style scoped>\n",
       "    .dataframe tbody tr th:only-of-type {\n",
       "        vertical-align: middle;\n",
       "    }\n",
       "\n",
       "    .dataframe tbody tr th {\n",
       "        vertical-align: top;\n",
       "    }\n",
       "\n",
       "    .dataframe thead th {\n",
       "        text-align: right;\n",
       "    }\n",
       "</style>\n",
       "<table border=\"1\" class=\"dataframe\">\n",
       "  <thead>\n",
       "    <tr style=\"text-align: right;\">\n",
       "      <th></th>\n",
       "      <th>id</th>\n",
       "      <th>creation_date</th>\n",
       "      <th>display_name</th>\n",
       "      <th>last_access_date</th>\n",
       "      <th>location</th>\n",
       "      <th>reputation</th>\n",
       "      <th>views</th>\n",
       "    </tr>\n",
       "  </thead>\n",
       "  <tbody>\n",
       "    <tr>\n",
       "      <th>0</th>\n",
       "      <td>1</td>\n",
       "      <td>2008-07-31 14:22:31</td>\n",
       "      <td>Jeff Atwood</td>\n",
       "      <td>2018-08-29 02:34:23</td>\n",
       "      <td>El Cerrito, CA</td>\n",
       "      <td>44300</td>\n",
       "      <td>408587</td>\n",
       "    </tr>\n",
       "    <tr>\n",
       "      <th>1</th>\n",
       "      <td>2</td>\n",
       "      <td>2008-07-31 14:22:31</td>\n",
       "      <td>Geoff Dalgas</td>\n",
       "      <td>2018-08-23 17:31:56</td>\n",
       "      <td>Corvallis, OR</td>\n",
       "      <td>3491</td>\n",
       "      <td>23966</td>\n",
       "    </tr>\n",
       "    <tr>\n",
       "      <th>2</th>\n",
       "      <td>3</td>\n",
       "      <td>2008-07-31 14:22:31</td>\n",
       "      <td>Jarrod Dixon</td>\n",
       "      <td>2018-08-30 20:56:24</td>\n",
       "      <td>Raleigh, NC, United States</td>\n",
       "      <td>13418</td>\n",
       "      <td>24396</td>\n",
       "    </tr>\n",
       "    <tr>\n",
       "      <th>3</th>\n",
       "      <td>4</td>\n",
       "      <td>2008-07-31 14:22:31</td>\n",
       "      <td>Joel Spolsky</td>\n",
       "      <td>2018-08-14 22:18:15</td>\n",
       "      <td>New York, NY</td>\n",
       "      <td>28768</td>\n",
       "      <td>73755</td>\n",
       "    </tr>\n",
       "    <tr>\n",
       "      <th>4</th>\n",
       "      <td>5</td>\n",
       "      <td>2008-07-31 14:22:31</td>\n",
       "      <td>Jon Galloway</td>\n",
       "      <td>2018-08-29 16:48:36</td>\n",
       "      <td>San Diego, CA</td>\n",
       "      <td>39172</td>\n",
       "      <td>11700</td>\n",
       "    </tr>\n",
       "    <tr>\n",
       "      <th>5</th>\n",
       "      <td>8</td>\n",
       "      <td>2008-07-31 21:33:24</td>\n",
       "      <td>Eggs McLaren</td>\n",
       "      <td>2018-04-09 02:04:56</td>\n",
       "      <td>None</td>\n",
       "      <td>942</td>\n",
       "      <td>6372</td>\n",
       "    </tr>\n",
       "    <tr>\n",
       "      <th>6</th>\n",
       "      <td>9</td>\n",
       "      <td>2008-07-31 21:35:27</td>\n",
       "      <td>Kevin Dente</td>\n",
       "      <td>2018-08-30 18:18:03</td>\n",
       "      <td>Oakland, CA</td>\n",
       "      <td>14337</td>\n",
       "      <td>4949</td>\n",
       "    </tr>\n",
       "    <tr>\n",
       "      <th>7</th>\n",
       "      <td>11</td>\n",
       "      <td>2008-08-01 00:59:11</td>\n",
       "      <td>Anonymous User</td>\n",
       "      <td>2008-08-01 00:59:11</td>\n",
       "      <td>None</td>\n",
       "      <td>1890</td>\n",
       "      <td>2123</td>\n",
       "    </tr>\n",
       "    <tr>\n",
       "      <th>8</th>\n",
       "      <td>13</td>\n",
       "      <td>2008-08-01 04:18:05</td>\n",
       "      <td>Chris Jester-Young</td>\n",
       "      <td>2018-08-30 02:47:23</td>\n",
       "      <td>Raleigh, NC, United States</td>\n",
       "      <td>177138</td>\n",
       "      <td>35414</td>\n",
       "    </tr>\n",
       "    <tr>\n",
       "      <th>9</th>\n",
       "      <td>17</td>\n",
       "      <td>2008-08-01 12:02:22</td>\n",
       "      <td>Nick Berardi</td>\n",
       "      <td>2018-01-22 01:35:38</td>\n",
       "      <td>Issaquah, WA</td>\n",
       "      <td>44443</td>\n",
       "      <td>4786</td>\n",
       "    </tr>\n",
       "  </tbody>\n",
       "</table>\n",
       "</div>"
      ],
      "text/plain": [
       "   id       creation_date        display_name    last_access_date  \\\n",
       "0   1 2008-07-31 14:22:31         Jeff Atwood 2018-08-29 02:34:23   \n",
       "1   2 2008-07-31 14:22:31        Geoff Dalgas 2018-08-23 17:31:56   \n",
       "2   3 2008-07-31 14:22:31        Jarrod Dixon 2018-08-30 20:56:24   \n",
       "3   4 2008-07-31 14:22:31        Joel Spolsky 2018-08-14 22:18:15   \n",
       "4   5 2008-07-31 14:22:31        Jon Galloway 2018-08-29 16:48:36   \n",
       "5   8 2008-07-31 21:33:24        Eggs McLaren 2018-04-09 02:04:56   \n",
       "6   9 2008-07-31 21:35:27         Kevin Dente 2018-08-30 18:18:03   \n",
       "7  11 2008-08-01 00:59:11      Anonymous User 2008-08-01 00:59:11   \n",
       "8  13 2008-08-01 04:18:05  Chris Jester-Young 2018-08-30 02:47:23   \n",
       "9  17 2008-08-01 12:02:22        Nick Berardi 2018-01-22 01:35:38   \n",
       "\n",
       "                     location  reputation   views  \n",
       "0              El Cerrito, CA       44300  408587  \n",
       "1               Corvallis, OR        3491   23966  \n",
       "2  Raleigh, NC, United States       13418   24396  \n",
       "3                New York, NY       28768   73755  \n",
       "4               San Diego, CA       39172   11700  \n",
       "5                        None         942    6372  \n",
       "6                 Oakland, CA       14337    4949  \n",
       "7                        None        1890    2123  \n",
       "8  Raleigh, NC, United States      177138   35414  \n",
       "9                Issaquah, WA       44443    4786  "
      ]
     },
     "execution_count": 5,
     "metadata": {},
     "output_type": "execute_result"
    }
   ],
   "source": [
    "sample_df"
   ]
  },
  {
   "cell_type": "markdown",
   "metadata": {
    "id": "gnBMXkDBDWKm"
   },
   "source": [
    "# Задание 1"
   ]
  },
  {
   "cell_type": "markdown",
   "metadata": {
    "id": "vHsfOrrNDWKn"
   },
   "source": [
    "Выведите общую сумму просмотров постов за каждый месяц 2008 года. Если данных за какой-либо месяц в базе нет, такой месяц можно пропустить. Результат отсортируйте по убыванию общего количества просмотров."
   ]
  },
  {
   "cell_type": "markdown",
   "metadata": {
    "id": "N5rTgGNmDWKn"
   },
   "source": [
    "| month_date  | total_views |\n",
    "| ------------- | ------------- |\n",
    "| 2008-09-01  | 452928568  |\n",
    "| 2008-10-01  | 365400138  |\n",
    "| ...         | ... |"
   ]
  },
  {
   "cell_type": "code",
   "execution_count": 6,
   "metadata": {
    "id": "eWvykcXTDWKo"
   },
   "outputs": [
    {
     "data": {
      "text/html": [
       "<div>\n",
       "<style scoped>\n",
       "    .dataframe tbody tr th:only-of-type {\n",
       "        vertical-align: middle;\n",
       "    }\n",
       "\n",
       "    .dataframe tbody tr th {\n",
       "        vertical-align: top;\n",
       "    }\n",
       "\n",
       "    .dataframe thead th {\n",
       "        text-align: right;\n",
       "    }\n",
       "</style>\n",
       "<table border=\"1\" class=\"dataframe\">\n",
       "  <thead>\n",
       "    <tr style=\"text-align: right;\">\n",
       "      <th></th>\n",
       "      <th>month</th>\n",
       "      <th>total_views</th>\n",
       "    </tr>\n",
       "  </thead>\n",
       "  <tbody>\n",
       "    <tr>\n",
       "      <th>0</th>\n",
       "      <td>2008-09-01</td>\n",
       "      <td>452928568</td>\n",
       "    </tr>\n",
       "    <tr>\n",
       "      <th>1</th>\n",
       "      <td>2008-10-01</td>\n",
       "      <td>365400138</td>\n",
       "    </tr>\n",
       "    <tr>\n",
       "      <th>2</th>\n",
       "      <td>2008-11-01</td>\n",
       "      <td>221759651</td>\n",
       "    </tr>\n",
       "    <tr>\n",
       "      <th>3</th>\n",
       "      <td>2008-12-01</td>\n",
       "      <td>197792841</td>\n",
       "    </tr>\n",
       "    <tr>\n",
       "      <th>4</th>\n",
       "      <td>2008-08-01</td>\n",
       "      <td>131367083</td>\n",
       "    </tr>\n",
       "    <tr>\n",
       "      <th>5</th>\n",
       "      <td>2008-07-01</td>\n",
       "      <td>669895</td>\n",
       "    </tr>\n",
       "  </tbody>\n",
       "</table>\n",
       "</div>"
      ],
      "text/plain": [
       "        month  total_views\n",
       "0  2008-09-01    452928568\n",
       "1  2008-10-01    365400138\n",
       "2  2008-11-01    221759651\n",
       "3  2008-12-01    197792841\n",
       "4  2008-08-01    131367083\n",
       "5  2008-07-01       669895"
      ]
     },
     "execution_count": 6,
     "metadata": {},
     "output_type": "execute_result"
    }
   ],
   "source": [
    "# напишите запрос\n",
    "query = '''\n",
    "SELECT DATE_TRUNC('month', creation_date)::date AS month,\n",
    "       SUM(views_count) AS total_views\n",
    "FROM stackoverflow.posts\n",
    "WHERE EXTRACT(YEAR FROM creation_date) = 2008\n",
    "GROUP BY month\n",
    "ORDER BY total_views DESC;\n",
    "'''\n",
    "\n",
    "# выполните запрос\n",
    "task1_df = pd.read_sql_query(query, con=engine) \n",
    "task1_df"
   ]
  },
  {
   "cell_type": "markdown",
   "metadata": {
    "id": "luxSj17oDWKq"
   },
   "source": [
    "**ОТВЕТ**\n",
    "\n",
    "Да, данные существенно отличаются из месяца в месяц. Самые пиковые месяца пришлись на осень, самые худшие на лето и декабрь. \n",
    "\n",
    "Отличия могут быть связаны с тем, что сервис stack overflow как раз начал свое существование в июле-августе 2008 года, соотвественно он только начинал набирать популярность. а небольшое кол-во просмотров в декабре, можно предположить, что рождество и новый год близился и многим было не особо до программирвоания)"
   ]
  },
  {
   "cell_type": "markdown",
   "metadata": {
    "id": "FziIXkn5DWKr"
   },
   "source": [
    "# Задание 2"
   ]
  },
  {
   "cell_type": "markdown",
   "metadata": {
    "id": "fTGESZvYDWKr"
   },
   "source": [
    "Выведите имена самых активных пользователей, которые в первый месяц после регистрации (включая день регистрации) дали больше 100 ответов. Вопросы, которые задавали пользователи, не учитывайте. Для каждого имени пользователя выведите количество уникальных значений `user_id`. Отсортируйте результат по полю с именами в лексикографическом порядке."
   ]
  },
  {
   "cell_type": "markdown",
   "metadata": {
    "id": "W5-tv6Y3DWKs"
   },
   "source": [
    "| display_name | count |\n",
    "| ------------ | ----- |\n",
    "| 1800 INFORMATION | 1 |\n",
    "| Adam Bellaire | 1 |\n",
    "| Adam Davis | 1 |\n",
    "| ... | ... |"
   ]
  },
  {
   "cell_type": "code",
   "execution_count": 7,
   "metadata": {
    "id": "fIO-y-YjDWKt"
   },
   "outputs": [
    {
     "data": {
      "text/html": [
       "<div>\n",
       "<style scoped>\n",
       "    .dataframe tbody tr th:only-of-type {\n",
       "        vertical-align: middle;\n",
       "    }\n",
       "\n",
       "    .dataframe tbody tr th {\n",
       "        vertical-align: top;\n",
       "    }\n",
       "\n",
       "    .dataframe thead th {\n",
       "        text-align: right;\n",
       "    }\n",
       "</style>\n",
       "<table border=\"1\" class=\"dataframe\">\n",
       "  <thead>\n",
       "    <tr style=\"text-align: right;\">\n",
       "      <th></th>\n",
       "      <th>display_name</th>\n",
       "      <th>count</th>\n",
       "    </tr>\n",
       "  </thead>\n",
       "  <tbody>\n",
       "    <tr>\n",
       "      <th>0</th>\n",
       "      <td>1800 INFORMATION</td>\n",
       "      <td>1</td>\n",
       "    </tr>\n",
       "    <tr>\n",
       "      <th>1</th>\n",
       "      <td>Adam Bellaire</td>\n",
       "      <td>1</td>\n",
       "    </tr>\n",
       "    <tr>\n",
       "      <th>2</th>\n",
       "      <td>Adam Davis</td>\n",
       "      <td>1</td>\n",
       "    </tr>\n",
       "    <tr>\n",
       "      <th>3</th>\n",
       "      <td>Adam Liss</td>\n",
       "      <td>1</td>\n",
       "    </tr>\n",
       "    <tr>\n",
       "      <th>4</th>\n",
       "      <td>Alan</td>\n",
       "      <td>8</td>\n",
       "    </tr>\n",
       "    <tr>\n",
       "      <th>5</th>\n",
       "      <td>Amy B</td>\n",
       "      <td>1</td>\n",
       "    </tr>\n",
       "    <tr>\n",
       "      <th>6</th>\n",
       "      <td>Ben Hoffstein</td>\n",
       "      <td>1</td>\n",
       "    </tr>\n",
       "    <tr>\n",
       "      <th>7</th>\n",
       "      <td>Brian</td>\n",
       "      <td>15</td>\n",
       "    </tr>\n",
       "    <tr>\n",
       "      <th>8</th>\n",
       "      <td>Cade Roux</td>\n",
       "      <td>1</td>\n",
       "    </tr>\n",
       "    <tr>\n",
       "      <th>9</th>\n",
       "      <td>CesarB</td>\n",
       "      <td>1</td>\n",
       "    </tr>\n",
       "    <tr>\n",
       "      <th>10</th>\n",
       "      <td>Chris</td>\n",
       "      <td>29</td>\n",
       "    </tr>\n",
       "    <tr>\n",
       "      <th>11</th>\n",
       "      <td>ConcernedOfTunbridgeWells</td>\n",
       "      <td>1</td>\n",
       "    </tr>\n",
       "    <tr>\n",
       "      <th>12</th>\n",
       "      <td>Craig</td>\n",
       "      <td>10</td>\n",
       "    </tr>\n",
       "    <tr>\n",
       "      <th>13</th>\n",
       "      <td>Dale Ragan</td>\n",
       "      <td>1</td>\n",
       "    </tr>\n",
       "    <tr>\n",
       "      <th>14</th>\n",
       "      <td>Dan</td>\n",
       "      <td>21</td>\n",
       "    </tr>\n",
       "    <tr>\n",
       "      <th>15</th>\n",
       "      <td>Eric Z Beard</td>\n",
       "      <td>1</td>\n",
       "    </tr>\n",
       "    <tr>\n",
       "      <th>16</th>\n",
       "      <td>Espo</td>\n",
       "      <td>1</td>\n",
       "    </tr>\n",
       "    <tr>\n",
       "      <th>17</th>\n",
       "      <td>FlySwat</td>\n",
       "      <td>1</td>\n",
       "    </tr>\n",
       "    <tr>\n",
       "      <th>18</th>\n",
       "      <td>Franci Penov</td>\n",
       "      <td>1</td>\n",
       "    </tr>\n",
       "    <tr>\n",
       "      <th>19</th>\n",
       "      <td>GEOCHET</td>\n",
       "      <td>1</td>\n",
       "    </tr>\n",
       "  </tbody>\n",
       "</table>\n",
       "</div>"
      ],
      "text/plain": [
       "                 display_name  count\n",
       "0            1800 INFORMATION      1\n",
       "1               Adam Bellaire      1\n",
       "2                  Adam Davis      1\n",
       "3                   Adam Liss      1\n",
       "4                        Alan      8\n",
       "5                       Amy B      1\n",
       "6               Ben Hoffstein      1\n",
       "7                       Brian     15\n",
       "8                   Cade Roux      1\n",
       "9                      CesarB      1\n",
       "10                      Chris     29\n",
       "11  ConcernedOfTunbridgeWells      1\n",
       "12                      Craig     10\n",
       "13                 Dale Ragan      1\n",
       "14                        Dan     21\n",
       "15               Eric Z Beard      1\n",
       "16                       Espo      1\n",
       "17                    FlySwat      1\n",
       "18               Franci Penov      1\n",
       "19                    GEOCHET      1"
      ]
     },
     "execution_count": 7,
     "metadata": {},
     "output_type": "execute_result"
    }
   ],
   "source": [
    "# напишите запрос\n",
    "query2 = '''\n",
    "SELECT DISTINCT u.display_name,\n",
    "        COUNT(DISTINCT p.user_id)\n",
    "FROM stackoverflow.users u\n",
    "JOIN stackoverflow.posts p ON u.id = p.user_id\n",
    "WHERE p.creation_date BETWEEN u.creation_date AND u.creation_date + INTERVAL '1 month'\n",
    "      AND p.post_type_id = (SELECT id FROM stackoverflow.post_types WHERE type = 'Answer')\n",
    "GROUP BY u.display_name\n",
    "HAVING COUNT(*) > 100\n",
    "ORDER BY u.display_name;\n",
    "'''\n",
    "\n",
    "# выполните запрос\n",
    "task2_df = pd.read_sql_query(query2, con=engine) \n",
    "task2_df.head(20)"
   ]
  },
  {
   "cell_type": "markdown",
   "metadata": {
    "id": "CEIGGQ6ODWKy"
   },
   "source": [
    "**ОТВЕТ**\n",
    "\n",
    "Одиночные ответы: мы видим,что много пользователей дали всего по одному ответу. Это странный, так как редко кто-то так активно участвует в сообществе, чтобы дать всего один ответ.\n",
    "\n",
    "И наоборот есть пользователи с большим количеством ответов: (например, пользователь \"Chris\" с 29 ответами). Это уже тоже что-то интересненькое в какой-то степени."
   ]
  },
  {
   "cell_type": "markdown",
   "metadata": {
    "id": "JhM2xXj5DWKu"
   },
   "source": [
    "# Задание 3"
   ]
  },
  {
   "cell_type": "markdown",
   "metadata": {
    "id": "IS6xPqyyDWKu"
   },
   "source": [
    "Выведите количество постов за 2008 год по месяцам. Отберите посты от пользователей, которые зарегистрировались в сентябре 2008 года и сделали хотя бы один пост в декабре того же года. Отсортируйте таблицу по значению месяца по убыванию."
   ]
  },
  {
   "cell_type": "markdown",
   "metadata": {
    "id": "WmjhjV2xDWKv"
   },
   "source": [
    "| month | count |\n",
    "| ------|------ |\n",
    "| 2008-12-01 | 17641 |\n",
    "| 2008-11-01 | 18294 |\n",
    "| ... | ... |"
   ]
  },
  {
   "cell_type": "code",
   "execution_count": 8,
   "metadata": {
    "id": "kVu0FB8WDWKv"
   },
   "outputs": [
    {
     "data": {
      "text/html": [
       "<div>\n",
       "<style scoped>\n",
       "    .dataframe tbody tr th:only-of-type {\n",
       "        vertical-align: middle;\n",
       "    }\n",
       "\n",
       "    .dataframe tbody tr th {\n",
       "        vertical-align: top;\n",
       "    }\n",
       "\n",
       "    .dataframe thead th {\n",
       "        text-align: right;\n",
       "    }\n",
       "</style>\n",
       "<table border=\"1\" class=\"dataframe\">\n",
       "  <thead>\n",
       "    <tr style=\"text-align: right;\">\n",
       "      <th></th>\n",
       "      <th>month</th>\n",
       "      <th>post_count</th>\n",
       "    </tr>\n",
       "  </thead>\n",
       "  <tbody>\n",
       "    <tr>\n",
       "      <th>0</th>\n",
       "      <td>2008-12-01</td>\n",
       "      <td>17641</td>\n",
       "    </tr>\n",
       "    <tr>\n",
       "      <th>1</th>\n",
       "      <td>2008-11-01</td>\n",
       "      <td>18294</td>\n",
       "    </tr>\n",
       "    <tr>\n",
       "      <th>2</th>\n",
       "      <td>2008-10-01</td>\n",
       "      <td>27171</td>\n",
       "    </tr>\n",
       "    <tr>\n",
       "      <th>3</th>\n",
       "      <td>2008-09-01</td>\n",
       "      <td>24870</td>\n",
       "    </tr>\n",
       "    <tr>\n",
       "      <th>4</th>\n",
       "      <td>2008-08-01</td>\n",
       "      <td>32</td>\n",
       "    </tr>\n",
       "  </tbody>\n",
       "</table>\n",
       "</div>"
      ],
      "text/plain": [
       "       month  post_count\n",
       "0 2008-12-01       17641\n",
       "1 2008-11-01       18294\n",
       "2 2008-10-01       27171\n",
       "3 2008-09-01       24870\n",
       "4 2008-08-01          32"
      ]
     },
     "execution_count": 8,
     "metadata": {},
     "output_type": "execute_result"
    }
   ],
   "source": [
    "# напишите запрос\n",
    "query3 = '''\n",
    "WITH september_users AS (\n",
    "    SELECT DISTINCT u.id\n",
    "    FROM stackoverflow.users u\n",
    "    WHERE EXTRACT(YEAR FROM u.creation_date) = 2008\n",
    "      AND EXTRACT(MONTH FROM u.creation_date) = 9\n",
    "),\n",
    "december_posts AS (\n",
    "    SELECT DISTINCT p.user_id\n",
    "    FROM stackoverflow.posts p\n",
    "    WHERE EXTRACT(YEAR FROM p.creation_date) = 2008\n",
    "      AND EXTRACT(MONTH FROM p.creation_date) = 12\n",
    ")\n",
    "SELECT DATE_TRUNC('month', p.creation_date) AS month,\n",
    "       COUNT(p.id) AS post_count\n",
    "FROM stackoverflow.posts p\n",
    "JOIN september_users su ON p.user_id = su.id\n",
    "JOIN december_posts dp ON p.user_id = dp.user_id\n",
    "WHERE EXTRACT(YEAR FROM p.creation_date) = 2008\n",
    "GROUP BY month\n",
    "ORDER BY month DESC;\n",
    "'''\n",
    "\n",
    "# выполните запрос\n",
    "task3_df = pd.read_sql_query(query3, con=engine) \n",
    "task3_df"
   ]
  },
  {
   "cell_type": "markdown",
   "metadata": {
    "id": "MMVIz4yMlKpN"
   },
   "source": [
    "**ОТВЕТ**\n",
    "\n",
    "Да, есть аномалия - в августе, как по мне, то этот месяц вообще не должен был здесь оказаться, так как по заданию мы искали тех пользователей, кто зарегистрировался в сентябре и сделал хотя бы 1 пост в декабре. \n",
    "\n",
    "Полагаю это может быть связано опять же с тем, что в августе сервис только начал работать и возможно там прозиошли какието сбои в введении и распределнии БД"
   ]
  },
  {
   "cell_type": "markdown",
   "metadata": {
    "id": "5Pcizm0DDWKz"
   },
   "source": [
    "# Задание 4"
   ]
  },
  {
   "cell_type": "markdown",
   "metadata": {
    "id": "KUZPF6vHDWKz"
   },
   "source": [
    "Используя данные о постах, выведите несколько полей:\n",
    "\n",
    "- идентификатор пользователя, который написал пост;\n",
    "- дата создания поста;\n",
    "- количество просмотров у текущего поста;\n",
    "- сумму просмотров постов автора с накоплением.\n",
    "\n",
    "Данные в таблице должны быть отсортированы по возрастанию идентификаторов пользователей, а данные об одном и том же пользователе — по возрастанию даты создания поста."
   ]
  },
  {
   "cell_type": "markdown",
   "metadata": {
    "id": "ZpsTUVDYDWK0"
   },
   "source": [
    "| user_id | creation_date | views_count | cumulative_count |\n",
    "| ------ | -------------- | ----------- | ---------------- |\n",
    "| 1 | 2008-07-31 23:41:00  | 480476   | 480476  |\n",
    "| 1 | 2008-07-31 23:55:38  | 136033 | 616509  | \n",
    "| 1 | 2008-07-31 23:56:41  | 0 |  616509  |\n",
    "| ... | ... | ... | ... |\n",
    "| 2 | 2008-07-31 23:56:41 | 79087  | 79087 |\n",
    "| 2 | 2008-08-01 05:09:56 | 65443 | 144530 |\n",
    "| ... | ...  | ...  | ...  |"
   ]
  },
  {
   "cell_type": "code",
   "execution_count": 9,
   "metadata": {
    "id": "hDoJhMzfDWK0"
   },
   "outputs": [
    {
     "data": {
      "text/html": [
       "<div>\n",
       "<style scoped>\n",
       "    .dataframe tbody tr th:only-of-type {\n",
       "        vertical-align: middle;\n",
       "    }\n",
       "\n",
       "    .dataframe tbody tr th {\n",
       "        vertical-align: top;\n",
       "    }\n",
       "\n",
       "    .dataframe thead th {\n",
       "        text-align: right;\n",
       "    }\n",
       "</style>\n",
       "<table border=\"1\" class=\"dataframe\">\n",
       "  <thead>\n",
       "    <tr style=\"text-align: right;\">\n",
       "      <th></th>\n",
       "      <th>user_id</th>\n",
       "      <th>creation_date</th>\n",
       "      <th>views_count</th>\n",
       "      <th>cumulative_count</th>\n",
       "    </tr>\n",
       "  </thead>\n",
       "  <tbody>\n",
       "    <tr>\n",
       "      <th>0</th>\n",
       "      <td>1</td>\n",
       "      <td>2008-07-31 23:41:00</td>\n",
       "      <td>480476</td>\n",
       "      <td>480476</td>\n",
       "    </tr>\n",
       "    <tr>\n",
       "      <th>1</th>\n",
       "      <td>1</td>\n",
       "      <td>2008-07-31 23:55:38</td>\n",
       "      <td>136033</td>\n",
       "      <td>616509</td>\n",
       "    </tr>\n",
       "    <tr>\n",
       "      <th>2</th>\n",
       "      <td>1</td>\n",
       "      <td>2008-07-31 23:56:41</td>\n",
       "      <td>0</td>\n",
       "      <td>616509</td>\n",
       "    </tr>\n",
       "    <tr>\n",
       "      <th>3</th>\n",
       "      <td>1</td>\n",
       "      <td>2008-08-04 02:45:08</td>\n",
       "      <td>0</td>\n",
       "      <td>616509</td>\n",
       "    </tr>\n",
       "    <tr>\n",
       "      <th>4</th>\n",
       "      <td>1</td>\n",
       "      <td>2008-08-04 04:31:03</td>\n",
       "      <td>0</td>\n",
       "      <td>616509</td>\n",
       "    </tr>\n",
       "    <tr>\n",
       "      <th>...</th>\n",
       "      <td>...</td>\n",
       "      <td>...</td>\n",
       "      <td>...</td>\n",
       "      <td>...</td>\n",
       "    </tr>\n",
       "    <tr>\n",
       "      <th>243791</th>\n",
       "      <td>5696608</td>\n",
       "      <td>2008-12-23 16:00:37</td>\n",
       "      <td>0</td>\n",
       "      <td>2804</td>\n",
       "    </tr>\n",
       "    <tr>\n",
       "      <th>243792</th>\n",
       "      <td>5696608</td>\n",
       "      <td>2008-12-23 17:35:09</td>\n",
       "      <td>0</td>\n",
       "      <td>2804</td>\n",
       "    </tr>\n",
       "    <tr>\n",
       "      <th>243793</th>\n",
       "      <td>5696608</td>\n",
       "      <td>2008-12-24 01:02:48</td>\n",
       "      <td>0</td>\n",
       "      <td>2804</td>\n",
       "    </tr>\n",
       "    <tr>\n",
       "      <th>243794</th>\n",
       "      <td>5696608</td>\n",
       "      <td>2008-12-30 14:34:45</td>\n",
       "      <td>0</td>\n",
       "      <td>2804</td>\n",
       "    </tr>\n",
       "    <tr>\n",
       "      <th>243795</th>\n",
       "      <td>5696608</td>\n",
       "      <td>2008-12-30 16:32:12</td>\n",
       "      <td>0</td>\n",
       "      <td>2804</td>\n",
       "    </tr>\n",
       "  </tbody>\n",
       "</table>\n",
       "<p>243796 rows × 4 columns</p>\n",
       "</div>"
      ],
      "text/plain": [
       "        user_id       creation_date  views_count  cumulative_count\n",
       "0             1 2008-07-31 23:41:00       480476            480476\n",
       "1             1 2008-07-31 23:55:38       136033            616509\n",
       "2             1 2008-07-31 23:56:41            0            616509\n",
       "3             1 2008-08-04 02:45:08            0            616509\n",
       "4             1 2008-08-04 04:31:03            0            616509\n",
       "...         ...                 ...          ...               ...\n",
       "243791  5696608 2008-12-23 16:00:37            0              2804\n",
       "243792  5696608 2008-12-23 17:35:09            0              2804\n",
       "243793  5696608 2008-12-24 01:02:48            0              2804\n",
       "243794  5696608 2008-12-30 14:34:45            0              2804\n",
       "243795  5696608 2008-12-30 16:32:12            0              2804\n",
       "\n",
       "[243796 rows x 4 columns]"
      ]
     },
     "execution_count": 9,
     "metadata": {},
     "output_type": "execute_result"
    }
   ],
   "source": [
    "# напишите запрос\n",
    "query4 = '''\n",
    "SELECT user_id,\n",
    "       creation_date,\n",
    "       views_count,\n",
    "       SUM(views_count) OVER(PARTITION BY user_id ORDER BY creation_date) AS cumulative_count\n",
    "FROM stackoverflow.posts\n",
    "ORDER BY user_id, creation_date\n",
    "\n",
    "'''\n",
    "\n",
    "# выполните запрос\n",
    "task4_df = pd.read_sql_query(query4, con=engine) \n",
    "task4_df"
   ]
  },
  {
   "cell_type": "markdown",
   "metadata": {
    "id": "N0kHRHvIDWK2"
   },
   "source": [
    "# Задание 5"
   ]
  },
  {
   "cell_type": "markdown",
   "metadata": {
    "id": "gBgvmPtODWK2"
   },
   "source": [
    "Найдите среднее количество постов пользователей в день за август 2008 года. Отберите данные о пользователях, которые опубликовали больше 120 постов за август. Дни без публикаций не учитывайте. \n",
    "\n",
    "Отсортируйте результат по возрастанию среднего количества постов. Значения можно не округлять."
   ]
  },
  {
   "cell_type": "markdown",
   "metadata": {
    "id": "nfzR08BODWK3"
   },
   "source": [
    "| user_id | avg_daily |\n",
    "| ------- | --------- |\n",
    "| 116     | 4.777778  |\n",
    "| 234     | 5.208333  |\n",
    "| ...     | ... |"
   ]
  },
  {
   "cell_type": "code",
   "execution_count": 10,
   "metadata": {
    "id": "YFyPNz5GDWK3"
   },
   "outputs": [
    {
     "data": {
      "text/html": [
       "<div>\n",
       "<style scoped>\n",
       "    .dataframe tbody tr th:only-of-type {\n",
       "        vertical-align: middle;\n",
       "    }\n",
       "\n",
       "    .dataframe tbody tr th {\n",
       "        vertical-align: top;\n",
       "    }\n",
       "\n",
       "    .dataframe thead th {\n",
       "        text-align: right;\n",
       "    }\n",
       "</style>\n",
       "<table border=\"1\" class=\"dataframe\">\n",
       "  <thead>\n",
       "    <tr style=\"text-align: right;\">\n",
       "      <th></th>\n",
       "      <th>user_id</th>\n",
       "      <th>avg</th>\n",
       "    </tr>\n",
       "  </thead>\n",
       "  <tbody>\n",
       "    <tr>\n",
       "      <th>0</th>\n",
       "      <td>116</td>\n",
       "      <td>4.777778</td>\n",
       "    </tr>\n",
       "    <tr>\n",
       "      <th>1</th>\n",
       "      <td>234</td>\n",
       "      <td>5.208333</td>\n",
       "    </tr>\n",
       "    <tr>\n",
       "      <th>2</th>\n",
       "      <td>91</td>\n",
       "      <td>5.681818</td>\n",
       "    </tr>\n",
       "    <tr>\n",
       "      <th>3</th>\n",
       "      <td>905</td>\n",
       "      <td>7.000000</td>\n",
       "    </tr>\n",
       "    <tr>\n",
       "      <th>4</th>\n",
       "      <td>383</td>\n",
       "      <td>7.277778</td>\n",
       "    </tr>\n",
       "  </tbody>\n",
       "</table>\n",
       "</div>"
      ],
      "text/plain": [
       "   user_id       avg\n",
       "0      116  4.777778\n",
       "1      234  5.208333\n",
       "2       91  5.681818\n",
       "3      905  7.000000\n",
       "4      383  7.277778"
      ]
     },
     "execution_count": 10,
     "metadata": {},
     "output_type": "execute_result"
    }
   ],
   "source": [
    "# напишите запрос\n",
    "query5 = '''\n",
    "WITH top_users AS (\n",
    "    SELECT user_id\n",
    "    FROM stackoverflow.posts\n",
    "    WHERE creation_date::date BETWEEN '2008-08-01' AND '2008-08-31'\n",
    "    GROUP BY user_id\n",
    "    HAVING COUNT(id) > 120\n",
    "),\n",
    "\n",
    "per_day AS (\n",
    "    SELECT user_id,\n",
    "            EXTRACT(DAY FROM creation_date::date) AS day,\n",
    "            COUNT(id) AS post_count\n",
    "    FROM stackoverflow.posts\n",
    "    WHERE creation_date::date BETWEEN '2008-08-01' AND '2008-08-31' AND\n",
    "            user_id IN (SELECT user_id FROM top_users)\n",
    "    GROUP BY user_id, day\n",
    "    ORDER BY day\n",
    ")\n",
    "\n",
    "SELECT user_id,\n",
    "        AVG(post_count)\n",
    "FROM per_day\n",
    "GROUP BY user_id\n",
    "ORDER BY AVG(post_count)\n",
    "\n",
    "'''\n",
    "\n",
    "# выполните запрос\n",
    "task5_df = pd.read_sql_query(query5, con=engine) \n",
    "task5_df"
   ]
  },
  {
   "cell_type": "markdown",
   "metadata": {
    "id": "EQ0dcFH4DWK5"
   },
   "source": [
    "# Задание 6"
   ]
  },
  {
   "cell_type": "markdown",
   "metadata": {
    "id": "c7flfg_hDWK5"
   },
   "source": [
    "Сколько в среднем дней в период с 1 по 7 декабря 2008 года пользователи взаимодействовали с платформой? Для каждого пользователя отберите дни, в которые он или она опубликовали хотя бы один пост. Нужно получить одно целое число — не забудьте округлить результат. "
   ]
  },
  {
   "cell_type": "markdown",
   "metadata": {
    "id": "RC1Ibzm9DWK6"
   },
   "source": [
    "| result |\n",
    "| -----  |\n",
    "| <целое число> |"
   ]
  },
  {
   "cell_type": "code",
   "execution_count": 11,
   "metadata": {
    "id": "kZ7LXTr6DWK6"
   },
   "outputs": [
    {
     "data": {
      "text/html": [
       "<div>\n",
       "<style scoped>\n",
       "    .dataframe tbody tr th:only-of-type {\n",
       "        vertical-align: middle;\n",
       "    }\n",
       "\n",
       "    .dataframe tbody tr th {\n",
       "        vertical-align: top;\n",
       "    }\n",
       "\n",
       "    .dataframe thead th {\n",
       "        text-align: right;\n",
       "    }\n",
       "</style>\n",
       "<table border=\"1\" class=\"dataframe\">\n",
       "  <thead>\n",
       "    <tr style=\"text-align: right;\">\n",
       "      <th></th>\n",
       "      <th>result</th>\n",
       "    </tr>\n",
       "  </thead>\n",
       "  <tbody>\n",
       "    <tr>\n",
       "      <th>0</th>\n",
       "      <td>1.77</td>\n",
       "    </tr>\n",
       "  </tbody>\n",
       "</table>\n",
       "</div>"
      ],
      "text/plain": [
       "   result\n",
       "0    1.77"
      ]
     },
     "execution_count": 11,
     "metadata": {},
     "output_type": "execute_result"
    }
   ],
   "source": [
    "# напишите запрос\n",
    "query6 = '''\n",
    "WITH up_counts AS (\n",
    "    SELECT user_id,\n",
    "           COUNT(DISTINCT EXTRACT(DAY FROM creation_date::date)) AS post_days\n",
    "    FROM stackoverflow.posts\n",
    "    WHERE creation_date::date BETWEEN '2008-12-01' AND '2008-12-07'\n",
    "    GROUP BY user_id\n",
    ")\n",
    "\n",
    "SELECT ROUND(AVG(post_days), 2) AS result\n",
    "FROM up_counts;\n",
    "\n",
    "'''\n",
    "\n",
    "# выполните запрос\n",
    "task6_df = pd.read_sql_query(query6, con=engine) \n",
    "task6_df"
   ]
  },
  {
   "cell_type": "markdown",
   "metadata": {
    "id": "LfUuYz-1DWK8"
   },
   "source": [
    "**ОТВЕТ**\n",
    "\n",
    "Мы видим, что в среднем все пользователи, что сделали хотя бы 1 пост за первую неделю декабря 2008 года, пробыли на платформе за тот же период в среднем 1.77 дня"
   ]
  },
  {
   "cell_type": "markdown",
   "metadata": {
    "id": "wfOmqmfLDWK8"
   },
   "source": [
    "# Задание 7"
   ]
  },
  {
   "cell_type": "markdown",
   "metadata": {
    "id": "X4ARQimADWK9"
   },
   "source": [
    "Выведите историю активности каждого пользователя в таком виде: идентификатор пользователя, дата публикации поста. Отсортируйте вывод по возрастанию идентификаторов пользователей, а для каждого пользователя — по возрастанию даты публикации.\n",
    "\n",
    "Добавьте в таблицу новое поле: для каждого поста в нём будет указано название месяца предпоследней публикации пользователя относительно текущей. Если такой публикации нет, укажите `NULL`.  Python автоматически поменяет `NULL` на `None`, но дополнительно преобразовывать значения `None` вам не нужно.\n",
    "\n",
    "Посмотрите внимательно на образец таблицы: для первых двух постов предпоследней публикации нет, но, начиная с третьего поста, в новое поле входит нужный месяц. Для следующего пользователя в первые две записи поля `second_last_month` тоже войдёт `NULL`."
   ]
  },
  {
   "cell_type": "markdown",
   "metadata": {
    "id": "IGPjRP01DWK9"
   },
   "source": [
    "| user_id | creation_date | second_last_month |\n",
    "| ------- | ------------- | ----------------- |\n",
    "| 1       | 2008-07-31 23:41:00 | None |\n",
    "| 1       | 2008-07-31 23:55:38 | None |\n",
    "| 1       | 2008-07-31 23:56:41 | July |\n",
    "| 1       | 2008-08-04 02:45:08 | July |\n",
    "| 1       | 2008-08-04 04:31:03 | July |\n",
    "| 1       | 2008-08-04 08:04:42 | August |\n",
    "| ... | ... | ... |"
   ]
  },
  {
   "cell_type": "code",
   "execution_count": 12,
   "metadata": {
    "id": "HzI1vhaMDWK-"
   },
   "outputs": [
    {
     "data": {
      "text/html": [
       "<div>\n",
       "<style scoped>\n",
       "    .dataframe tbody tr th:only-of-type {\n",
       "        vertical-align: middle;\n",
       "    }\n",
       "\n",
       "    .dataframe tbody tr th {\n",
       "        vertical-align: top;\n",
       "    }\n",
       "\n",
       "    .dataframe thead th {\n",
       "        text-align: right;\n",
       "    }\n",
       "</style>\n",
       "<table border=\"1\" class=\"dataframe\">\n",
       "  <thead>\n",
       "    <tr style=\"text-align: right;\">\n",
       "      <th></th>\n",
       "      <th>user_id</th>\n",
       "      <th>creation_date</th>\n",
       "      <th>second_last_month</th>\n",
       "    </tr>\n",
       "  </thead>\n",
       "  <tbody>\n",
       "    <tr>\n",
       "      <th>0</th>\n",
       "      <td>1</td>\n",
       "      <td>2008-07-31 23:41:00</td>\n",
       "      <td>None</td>\n",
       "    </tr>\n",
       "    <tr>\n",
       "      <th>1</th>\n",
       "      <td>1</td>\n",
       "      <td>2008-07-31 23:55:38</td>\n",
       "      <td>None</td>\n",
       "    </tr>\n",
       "    <tr>\n",
       "      <th>2</th>\n",
       "      <td>1</td>\n",
       "      <td>2008-07-31 23:56:41</td>\n",
       "      <td>July</td>\n",
       "    </tr>\n",
       "    <tr>\n",
       "      <th>3</th>\n",
       "      <td>1</td>\n",
       "      <td>2008-08-04 02:45:08</td>\n",
       "      <td>July</td>\n",
       "    </tr>\n",
       "    <tr>\n",
       "      <th>4</th>\n",
       "      <td>1</td>\n",
       "      <td>2008-08-04 04:31:03</td>\n",
       "      <td>July</td>\n",
       "    </tr>\n",
       "    <tr>\n",
       "      <th>...</th>\n",
       "      <td>...</td>\n",
       "      <td>...</td>\n",
       "      <td>...</td>\n",
       "    </tr>\n",
       "    <tr>\n",
       "      <th>243791</th>\n",
       "      <td>5696608</td>\n",
       "      <td>2008-12-23 16:00:37</td>\n",
       "      <td>December</td>\n",
       "    </tr>\n",
       "    <tr>\n",
       "      <th>243792</th>\n",
       "      <td>5696608</td>\n",
       "      <td>2008-12-23 17:35:09</td>\n",
       "      <td>December</td>\n",
       "    </tr>\n",
       "    <tr>\n",
       "      <th>243793</th>\n",
       "      <td>5696608</td>\n",
       "      <td>2008-12-24 01:02:48</td>\n",
       "      <td>December</td>\n",
       "    </tr>\n",
       "    <tr>\n",
       "      <th>243794</th>\n",
       "      <td>5696608</td>\n",
       "      <td>2008-12-30 14:34:45</td>\n",
       "      <td>December</td>\n",
       "    </tr>\n",
       "    <tr>\n",
       "      <th>243795</th>\n",
       "      <td>5696608</td>\n",
       "      <td>2008-12-30 16:32:12</td>\n",
       "      <td>December</td>\n",
       "    </tr>\n",
       "  </tbody>\n",
       "</table>\n",
       "<p>243796 rows × 3 columns</p>\n",
       "</div>"
      ],
      "text/plain": [
       "        user_id       creation_date second_last_month\n",
       "0             1 2008-07-31 23:41:00              None\n",
       "1             1 2008-07-31 23:55:38              None\n",
       "2             1 2008-07-31 23:56:41         July     \n",
       "3             1 2008-08-04 02:45:08         July     \n",
       "4             1 2008-08-04 04:31:03         July     \n",
       "...         ...                 ...               ...\n",
       "243791  5696608 2008-12-23 16:00:37         December \n",
       "243792  5696608 2008-12-23 17:35:09         December \n",
       "243793  5696608 2008-12-24 01:02:48         December \n",
       "243794  5696608 2008-12-30 14:34:45         December \n",
       "243795  5696608 2008-12-30 16:32:12         December \n",
       "\n",
       "[243796 rows x 3 columns]"
      ]
     },
     "execution_count": 12,
     "metadata": {},
     "output_type": "execute_result"
    }
   ],
   "source": [
    "# напишите запрос\n",
    "query7 = '''\n",
    "WITH UserActivity AS (\n",
    "    SELECT\n",
    "        user_id,\n",
    "        creation_date,\n",
    "        LAG(EXTRACT(MONTH FROM creation_date), 2) OVER (PARTITION BY user_id ORDER BY creation_date) AS second_last_month\n",
    "    FROM stackoverflow.posts\n",
    ")\n",
    "\n",
    "SELECT\n",
    "    user_id,\n",
    "    creation_date,\n",
    "    CASE\n",
    "        WHEN second_last_month IS NULL THEN NULL\n",
    "        ELSE TO_CHAR(DATE_TRUNC('month', DATE '2008-01-01' + INTERVAL '1 month' * (second_last_month - 1)), 'Month')\n",
    "    END AS second_last_month\n",
    "FROM UserActivity\n",
    "ORDER BY user_id, creation_date;\n",
    "\n",
    "'''\n",
    "\n",
    "# выполните запрос\n",
    "task7_df = pd.read_sql_query(query7, con=engine) \n",
    "task7_df"
   ]
  },
  {
   "cell_type": "markdown",
   "metadata": {
    "id": "tf9qq2yzDWK_"
   },
   "source": [
    "# Задание 8"
   ]
  },
  {
   "cell_type": "markdown",
   "metadata": {
    "id": "gfwLVXBYDWLA"
   },
   "source": [
    "Рассчитайте аналог Retention Rate по месяцам для пользователей StackOverflow. Объедините пользователей в когорты по месяцу их первого поста. Возвращение определяйте по наличию поста в текущем месяце. "
   ]
  },
  {
   "cell_type": "markdown",
   "metadata": {
    "id": "kN2ic39WlKpl"
   },
   "source": [
    "| cohort_dt | session_date | users_cnt | cohort_users_cnt | retention_rate |\n",
    "| --- | --- | --- | --- | --- |\n",
    "| 2008-07-01 00:00:00 | 2008-07-01 00:00:00 | 3 | 3 | 100 |\n",
    "| 2008-07-01 00:00:00 | 2008-08-01 00:00:00 | 2 | 3 | 66,67 |\n",
    "| 2008-07-01 00:00:00 | 2008-09-01 00:00:00 | 1 | 3 | 33,33 |\n",
    "| 2008-07-01 00:00:00 | 2008-10-01 00:00:00 | 2 | 3 | 66,67 |\n",
    "| 2008-07-01 00:00:00 | 2008-11-01 00:00:00 | 1 | 3 | 33,33 |\n",
    "| 2008-07-01 00:00:00 | 2008-12-01 00:00:00 | 2 | 3 | 66,67 |\n",
    "| 2008-08-01 00:00:00 | 2008-08-01 00:00:00 | 2151 | 2151 | 100 |\n",
    "| ... | ... | ... | ... | ... |"
   ]
  },
  {
   "cell_type": "code",
   "execution_count": 13,
   "metadata": {
    "id": "LUgFmwmTDWLB"
   },
   "outputs": [
    {
     "data": {
      "text/html": [
       "<div>\n",
       "<style scoped>\n",
       "    .dataframe tbody tr th:only-of-type {\n",
       "        vertical-align: middle;\n",
       "    }\n",
       "\n",
       "    .dataframe tbody tr th {\n",
       "        vertical-align: top;\n",
       "    }\n",
       "\n",
       "    .dataframe thead th {\n",
       "        text-align: right;\n",
       "    }\n",
       "</style>\n",
       "<table border=\"1\" class=\"dataframe\">\n",
       "  <thead>\n",
       "    <tr style=\"text-align: right;\">\n",
       "      <th></th>\n",
       "      <th>cohort_month</th>\n",
       "      <th>session_month</th>\n",
       "      <th>users_count</th>\n",
       "      <th>cohort_users_count</th>\n",
       "      <th>retention_rate</th>\n",
       "    </tr>\n",
       "  </thead>\n",
       "  <tbody>\n",
       "    <tr>\n",
       "      <th>0</th>\n",
       "      <td>2008-07-01</td>\n",
       "      <td>2008-07-01</td>\n",
       "      <td>3</td>\n",
       "      <td>3</td>\n",
       "      <td>100.00</td>\n",
       "    </tr>\n",
       "    <tr>\n",
       "      <th>1</th>\n",
       "      <td>2008-07-01</td>\n",
       "      <td>2008-08-01</td>\n",
       "      <td>2</td>\n",
       "      <td>3</td>\n",
       "      <td>66.67</td>\n",
       "    </tr>\n",
       "    <tr>\n",
       "      <th>2</th>\n",
       "      <td>2008-07-01</td>\n",
       "      <td>2008-09-01</td>\n",
       "      <td>1</td>\n",
       "      <td>3</td>\n",
       "      <td>33.33</td>\n",
       "    </tr>\n",
       "    <tr>\n",
       "      <th>3</th>\n",
       "      <td>2008-07-01</td>\n",
       "      <td>2008-10-01</td>\n",
       "      <td>2</td>\n",
       "      <td>3</td>\n",
       "      <td>66.67</td>\n",
       "    </tr>\n",
       "    <tr>\n",
       "      <th>4</th>\n",
       "      <td>2008-07-01</td>\n",
       "      <td>2008-11-01</td>\n",
       "      <td>1</td>\n",
       "      <td>3</td>\n",
       "      <td>33.33</td>\n",
       "    </tr>\n",
       "    <tr>\n",
       "      <th>5</th>\n",
       "      <td>2008-07-01</td>\n",
       "      <td>2008-12-01</td>\n",
       "      <td>2</td>\n",
       "      <td>3</td>\n",
       "      <td>66.67</td>\n",
       "    </tr>\n",
       "    <tr>\n",
       "      <th>6</th>\n",
       "      <td>2008-08-01</td>\n",
       "      <td>2008-08-01</td>\n",
       "      <td>2151</td>\n",
       "      <td>2151</td>\n",
       "      <td>100.00</td>\n",
       "    </tr>\n",
       "    <tr>\n",
       "      <th>7</th>\n",
       "      <td>2008-08-01</td>\n",
       "      <td>2008-09-01</td>\n",
       "      <td>1571</td>\n",
       "      <td>2151</td>\n",
       "      <td>73.04</td>\n",
       "    </tr>\n",
       "    <tr>\n",
       "      <th>8</th>\n",
       "      <td>2008-08-01</td>\n",
       "      <td>2008-10-01</td>\n",
       "      <td>1275</td>\n",
       "      <td>2151</td>\n",
       "      <td>59.27</td>\n",
       "    </tr>\n",
       "    <tr>\n",
       "      <th>9</th>\n",
       "      <td>2008-08-01</td>\n",
       "      <td>2008-11-01</td>\n",
       "      <td>1050</td>\n",
       "      <td>2151</td>\n",
       "      <td>48.81</td>\n",
       "    </tr>\n",
       "    <tr>\n",
       "      <th>10</th>\n",
       "      <td>2008-08-01</td>\n",
       "      <td>2008-12-01</td>\n",
       "      <td>894</td>\n",
       "      <td>2151</td>\n",
       "      <td>41.56</td>\n",
       "    </tr>\n",
       "    <tr>\n",
       "      <th>11</th>\n",
       "      <td>2008-09-01</td>\n",
       "      <td>2008-09-01</td>\n",
       "      <td>7678</td>\n",
       "      <td>7678</td>\n",
       "      <td>100.00</td>\n",
       "    </tr>\n",
       "    <tr>\n",
       "      <th>12</th>\n",
       "      <td>2008-09-01</td>\n",
       "      <td>2008-10-01</td>\n",
       "      <td>4132</td>\n",
       "      <td>7678</td>\n",
       "      <td>53.82</td>\n",
       "    </tr>\n",
       "    <tr>\n",
       "      <th>13</th>\n",
       "      <td>2008-09-01</td>\n",
       "      <td>2008-11-01</td>\n",
       "      <td>2966</td>\n",
       "      <td>7678</td>\n",
       "      <td>38.63</td>\n",
       "    </tr>\n",
       "    <tr>\n",
       "      <th>14</th>\n",
       "      <td>2008-09-01</td>\n",
       "      <td>2008-12-01</td>\n",
       "      <td>2500</td>\n",
       "      <td>7678</td>\n",
       "      <td>32.56</td>\n",
       "    </tr>\n",
       "    <tr>\n",
       "      <th>15</th>\n",
       "      <td>2008-10-01</td>\n",
       "      <td>2008-10-01</td>\n",
       "      <td>3629</td>\n",
       "      <td>3629</td>\n",
       "      <td>100.00</td>\n",
       "    </tr>\n",
       "    <tr>\n",
       "      <th>16</th>\n",
       "      <td>2008-10-01</td>\n",
       "      <td>2008-11-01</td>\n",
       "      <td>1640</td>\n",
       "      <td>3629</td>\n",
       "      <td>45.19</td>\n",
       "    </tr>\n",
       "    <tr>\n",
       "      <th>17</th>\n",
       "      <td>2008-10-01</td>\n",
       "      <td>2008-12-01</td>\n",
       "      <td>1221</td>\n",
       "      <td>3629</td>\n",
       "      <td>33.65</td>\n",
       "    </tr>\n",
       "    <tr>\n",
       "      <th>18</th>\n",
       "      <td>2008-11-01</td>\n",
       "      <td>2008-11-01</td>\n",
       "      <td>2852</td>\n",
       "      <td>2852</td>\n",
       "      <td>100.00</td>\n",
       "    </tr>\n",
       "    <tr>\n",
       "      <th>19</th>\n",
       "      <td>2008-11-01</td>\n",
       "      <td>2008-12-01</td>\n",
       "      <td>1151</td>\n",
       "      <td>2852</td>\n",
       "      <td>40.36</td>\n",
       "    </tr>\n",
       "    <tr>\n",
       "      <th>20</th>\n",
       "      <td>2008-12-01</td>\n",
       "      <td>2008-12-01</td>\n",
       "      <td>2536</td>\n",
       "      <td>2536</td>\n",
       "      <td>100.00</td>\n",
       "    </tr>\n",
       "  </tbody>\n",
       "</table>\n",
       "</div>"
      ],
      "text/plain": [
       "   cohort_month session_month  users_count  cohort_users_count  retention_rate\n",
       "0    2008-07-01    2008-07-01            3                   3          100.00\n",
       "1    2008-07-01    2008-08-01            2                   3           66.67\n",
       "2    2008-07-01    2008-09-01            1                   3           33.33\n",
       "3    2008-07-01    2008-10-01            2                   3           66.67\n",
       "4    2008-07-01    2008-11-01            1                   3           33.33\n",
       "5    2008-07-01    2008-12-01            2                   3           66.67\n",
       "6    2008-08-01    2008-08-01         2151                2151          100.00\n",
       "7    2008-08-01    2008-09-01         1571                2151           73.04\n",
       "8    2008-08-01    2008-10-01         1275                2151           59.27\n",
       "9    2008-08-01    2008-11-01         1050                2151           48.81\n",
       "10   2008-08-01    2008-12-01          894                2151           41.56\n",
       "11   2008-09-01    2008-09-01         7678                7678          100.00\n",
       "12   2008-09-01    2008-10-01         4132                7678           53.82\n",
       "13   2008-09-01    2008-11-01         2966                7678           38.63\n",
       "14   2008-09-01    2008-12-01         2500                7678           32.56\n",
       "15   2008-10-01    2008-10-01         3629                3629          100.00\n",
       "16   2008-10-01    2008-11-01         1640                3629           45.19\n",
       "17   2008-10-01    2008-12-01         1221                3629           33.65\n",
       "18   2008-11-01    2008-11-01         2852                2852          100.00\n",
       "19   2008-11-01    2008-12-01         1151                2852           40.36\n",
       "20   2008-12-01    2008-12-01         2536                2536          100.00"
      ]
     },
     "execution_count": 13,
     "metadata": {},
     "output_type": "execute_result"
    }
   ],
   "source": [
    "# напишите запрос\n",
    "query8 = '''\n",
    "WITH profile AS (\n",
    "    SELECT\n",
    "        user_id,\n",
    "        DATE_TRUNC('month', MIN(creation_date)) AS cohort_month\n",
    "    FROM stackoverflow.posts\n",
    "    GROUP BY user_id\n",
    "),\n",
    "sessions AS (\n",
    "    SELECT\n",
    "        user_id,\n",
    "        DATE_TRUNC('month', creation_date) AS session_month\n",
    "    FROM stackoverflow.posts\n",
    "    GROUP BY user_id, DATE_TRUNC('month', creation_date)\n",
    "),\n",
    "cohort_counts AS (\n",
    "    SELECT\n",
    "        cohort_month,\n",
    "        COUNT(user_id) AS cohort_users_count\n",
    "    FROM profile\n",
    "    GROUP BY cohort_month\n",
    ")\n",
    "SELECT\n",
    "    p.cohort_month,\n",
    "    s.session_month,\n",
    "    COUNT(s.user_id) AS users_count,\n",
    "    cc.cohort_users_count,\n",
    "    ROUND(COUNT(s.user_id) * 100.0 / cc.cohort_users_count, 2) AS retention_rate\n",
    "FROM sessions s\n",
    "JOIN profile p ON s.user_id = p.user_id\n",
    "JOIN cohort_counts cc ON p.cohort_month = cc.cohort_month\n",
    "GROUP BY p.cohort_month, s.session_month, cc.cohort_users_count\n",
    "ORDER BY p.cohort_month, s.session_month;\n",
    "\n",
    "'''\n",
    "\n",
    "# выполните запрос\n",
    "task8_df = pd.read_sql_query(query8, con=engine) \n",
    "task8_df"
   ]
  },
  {
   "cell_type": "markdown",
   "metadata": {
    "id": "_msBtnb2DWLC"
   },
   "source": [
    "Постройте тепловую карту Retention Rate. Какие аномалии или другие необычные явления удалось выявить? Сформулируйте гипотезы о возможных причинах."
   ]
  },
  {
   "cell_type": "code",
   "execution_count": 14,
   "metadata": {
    "id": "qAEJc8H1DWLC"
   },
   "outputs": [
    {
     "data": {
      "image/png": "[encoded data removed]",
      "text/plain": [
       "<Figure size 720x720 with 2 Axes>"
      ]
     },
     "metadata": {
      "needs_background": "light"
     },
     "output_type": "display_data"
    }
   ],
   "source": [
    "# постройте тепловую карту Retention Rate\n",
    "# создаём сводную таблицу с результатами\n",
    "retention = task8_df.pivot('cohort_month', 'session_month', 'retention_rate')\n",
    "retention.index = [str(x)[0:10] for x in retention.index]\n",
    "retention.columns = [str(x)[0:10] for x in retention.columns]\n",
    "\n",
    "# строим хитмэп\n",
    "plt.figure(figsize=(10, 10)) # задаём размер графика\n",
    "sns.heatmap(retention, # датафрейм с данными\n",
    "            annot=True, # добавляем подписи\n",
    "            fmt='') # задаём исходный формат\n",
    "plt.title('Тепловая карта') # название графика\n",
    "plt.xlabel('Когортный месяц')  # Подпись оси x\n",
    "plt.ylabel('Месяц сессии')  # Подпись оси y\n",
    "\n",
    "plt.show() \n"
   ]
  },
  {
   "cell_type": "markdown",
   "metadata": {},
   "source": [
    "По тепловой карте мы видим, что удержание пользователей убывает со временем. Во всех когортах, кроме той, где пользователи зарегистрирвоались в июле. Например, удержание для пользователей из когорты августа 2008 года начинается с 100% в августе, а затем снижается в последующие месяцы. Это говорит о том, что с течением времени часть пользователей уже подзабивают на платформу.\n",
    "\n",
    "Но при этом есть аномальные значения по июльской когорте. В гугле написан, что сервис заработал в августе 2008 года в целом, и как в заданиях ранее уже отмечалось, возможно с этой временной несостыковкой и связана эта аномалия. может в июле на сервис была \"запущена\" тестовая группа пользователей, которые каждые два месяца проявляли активность, так можно было бы объяснить такую чехарду в ретенш 66,6 - 33,33 - 66,6 - 33,3 и так далее.\n",
    "\n",
    "Плюс мы видим, что пик актвиности пришелся как раз на август 2008 года. Самый большой показатель ретеншена. И при этом видим, как к ноябрю колво активных пользователей снижается во втором месяце их пребывания с пиковых 73,04 до 40,36 к декабрю месяце. Такая же зависимость наблюдается во всех когортах (кроме июльской) что к 3ему и 4му месяцу активность везде практически пропорционально падает.."
   ]
  },
  {
   "cell_type": "markdown",
   "metadata": {
    "id": "1k7oPWt5DWLK"
   },
   "source": [
    "# Задание 9\n"
   ]
  },
  {
   "cell_type": "markdown",
   "metadata": {
    "id": "ALsYVSyRDWLM"
   },
   "source": [
    "На сколько процентов менялось количество постов ежемесячно с 1 сентября по 31 декабря 2008 года? Отобразите таблицу со следующими полями:\n",
    "\n",
    "- номер месяца;\n",
    "- количество постов за месяц;\n",
    "- процент, который показывает, насколько изменилось количество постов в текущем месяце по сравнению с предыдущим.\n",
    "\n",
    "Если постов стало меньше, значение процента должно быть отрицательным, если больше — положительным. Округлите значение процента до двух знаков после запятой.\n",
    "\n",
    "Напомним, что при делении одного целого числа на другое в PostgreSQL в результате получится целое число, округлённое до ближайшего целого вниз. Чтобы этого избежать, переведите делимое в тип `numeric`."
   ]
  },
  {
   "cell_type": "markdown",
   "metadata": {
    "id": "u4E2zF8DDWLM"
   },
   "source": [
    "| creation_month | posts_count | percentage |\n",
    "| -------------- | ----------- | ---------- |\n",
    "| 9 | 70731 | Nan |\n",
    "| 10 | 63102 | -10.33 |\n",
    "| ... | ... | ... |"
   ]
  },
  {
   "cell_type": "code",
   "execution_count": 16,
   "metadata": {
    "id": "Mb5pShStDWLN"
   },
   "outputs": [
    {
     "data": {
      "text/html": [
       "<div>\n",
       "<style scoped>\n",
       "    .dataframe tbody tr th:only-of-type {\n",
       "        vertical-align: middle;\n",
       "    }\n",
       "\n",
       "    .dataframe tbody tr th {\n",
       "        vertical-align: top;\n",
       "    }\n",
       "\n",
       "    .dataframe thead th {\n",
       "        text-align: right;\n",
       "    }\n",
       "</style>\n",
       "<table border=\"1\" class=\"dataframe\">\n",
       "  <thead>\n",
       "    <tr style=\"text-align: right;\">\n",
       "      <th></th>\n",
       "      <th>month_number</th>\n",
       "      <th>post_count</th>\n",
       "      <th>percent_change</th>\n",
       "    </tr>\n",
       "  </thead>\n",
       "  <tbody>\n",
       "    <tr>\n",
       "      <th>0</th>\n",
       "      <td>9.0</td>\n",
       "      <td>70371</td>\n",
       "      <td>NaN</td>\n",
       "    </tr>\n",
       "    <tr>\n",
       "      <th>1</th>\n",
       "      <td>10.0</td>\n",
       "      <td>63102</td>\n",
       "      <td>-10.33</td>\n",
       "    </tr>\n",
       "    <tr>\n",
       "      <th>2</th>\n",
       "      <td>11.0</td>\n",
       "      <td>46975</td>\n",
       "      <td>-25.56</td>\n",
       "    </tr>\n",
       "    <tr>\n",
       "      <th>3</th>\n",
       "      <td>12.0</td>\n",
       "      <td>44592</td>\n",
       "      <td>-5.07</td>\n",
       "    </tr>\n",
       "  </tbody>\n",
       "</table>\n",
       "</div>"
      ],
      "text/plain": [
       "   month_number  post_count  percent_change\n",
       "0           9.0       70371             NaN\n",
       "1          10.0       63102          -10.33\n",
       "2          11.0       46975          -25.56\n",
       "3          12.0       44592           -5.07"
      ]
     },
     "execution_count": 16,
     "metadata": {},
     "output_type": "execute_result"
    }
   ],
   "source": [
    "# напишите запрос\n",
    "query9 = '''\n",
    "WITH monthly_posts AS (\n",
    "    SELECT\n",
    "        DATE_TRUNC('month', creation_date) AS month,\n",
    "        COUNT(*) AS post_count\n",
    "    FROM stackoverflow.posts\n",
    "    WHERE creation_date::date BETWEEN '2008-09-01' AND '2008-12-31'\n",
    "    GROUP BY month\n",
    ")\n",
    "\n",
    "SELECT\n",
    "    EXTRACT(MONTH FROM month) AS month_number,\n",
    "    post_count,\n",
    "    ROUND(\n",
    "        (post_count - LAG(post_count) OVER (ORDER BY month)) * 100.0 / LAG(post_count) OVER (ORDER BY month),\n",
    "        2\n",
    "    ) AS percent_change\n",
    "FROM monthly_posts\n",
    "ORDER BY month_number;\n",
    "\n",
    "'''\n",
    "\n",
    "# выполните запрос\n",
    "task9_df = pd.read_sql_query(query9, con=engine) \n",
    "task9_df"
   ]
  },
  {
   "cell_type": "markdown",
   "metadata": {
    "id": "9NQE2y_MDWLP"
   },
   "source": [
    "Постройте круговую диаграмму с количеством постов по месяцам."
   ]
  },
  {
   "cell_type": "code",
   "execution_count": 17,
   "metadata": {
    "id": "377ABjiVDWLP"
   },
   "outputs": [
    {
     "data": {
      "image/png": "[encoded data removed]",
      "text/plain": [
       "<Figure size 576x576 with 1 Axes>"
      ]
     },
     "metadata": {},
     "output_type": "display_data"
    }
   ],
   "source": [
    "# постройте круговую диаграмму с количеством постов по месяцам\n",
    "months = [\"Сентябрь\", \"Октябрь\", \"Ноябрь\", \"Декабрь\"]\n",
    "post_counts = task9_df['post_count']\n",
    "\n",
    "plt.figure(figsize=(8, 8))\n",
    "plt.pie(post_counts, labels=months, autopct='%1.1f%%', startangle=140)\n",
    "plt.title('Количество постов по месяцам (2008 год)')\n",
    "\n",
    "plt.show()\n"
   ]
  },
  {
   "cell_type": "markdown",
   "metadata": {
    "id": "uw7qMtafDWLP"
   },
   "source": [
    "# Задание 10"
   ]
  },
  {
   "cell_type": "markdown",
   "metadata": {
    "id": "oRBpWKx3DWLQ"
   },
   "source": [
    "Выгрузите данные активности пользователя, который опубликовал больше всего постов за всё время. Выведите данные за октябрь 2008 года в таком виде:\n",
    "\n",
    "- номер недели;\n",
    "- дата и время последнего поста, опубликованного на этой неделе."
   ]
  },
  {
   "cell_type": "markdown",
   "metadata": {
    "id": "XjAWSn_3DWLQ"
   },
   "source": [
    "| week_creation | creation_date |\n",
    "| ------------- | ------------- |\n",
    "| 40 | 2008-10-05 09:00:58 |\n",
    "| 41 | 2008-10-12 21:22:23 |\n",
    "| ... | ... |"
   ]
  },
  {
   "cell_type": "code",
   "execution_count": 18,
   "metadata": {
    "id": "r5F5fSkwDWLQ"
   },
   "outputs": [
    {
     "data": {
      "text/html": [
       "<div>\n",
       "<style scoped>\n",
       "    .dataframe tbody tr th:only-of-type {\n",
       "        vertical-align: middle;\n",
       "    }\n",
       "\n",
       "    .dataframe tbody tr th {\n",
       "        vertical-align: top;\n",
       "    }\n",
       "\n",
       "    .dataframe thead th {\n",
       "        text-align: right;\n",
       "    }\n",
       "</style>\n",
       "<table border=\"1\" class=\"dataframe\">\n",
       "  <thead>\n",
       "    <tr style=\"text-align: right;\">\n",
       "      <th></th>\n",
       "      <th>week_creation</th>\n",
       "      <th>creation_date</th>\n",
       "    </tr>\n",
       "  </thead>\n",
       "  <tbody>\n",
       "    <tr>\n",
       "      <th>0</th>\n",
       "      <td>40.0</td>\n",
       "      <td>2008-10-05 09:00:58</td>\n",
       "    </tr>\n",
       "    <tr>\n",
       "      <th>1</th>\n",
       "      <td>41.0</td>\n",
       "      <td>2008-10-12 21:22:23</td>\n",
       "    </tr>\n",
       "    <tr>\n",
       "      <th>2</th>\n",
       "      <td>42.0</td>\n",
       "      <td>2008-10-19 06:49:30</td>\n",
       "    </tr>\n",
       "    <tr>\n",
       "      <th>3</th>\n",
       "      <td>43.0</td>\n",
       "      <td>2008-10-26 21:44:36</td>\n",
       "    </tr>\n",
       "    <tr>\n",
       "      <th>4</th>\n",
       "      <td>44.0</td>\n",
       "      <td>2008-10-31 22:16:01</td>\n",
       "    </tr>\n",
       "  </tbody>\n",
       "</table>\n",
       "</div>"
      ],
      "text/plain": [
       "   week_creation       creation_date\n",
       "0           40.0 2008-10-05 09:00:58\n",
       "1           41.0 2008-10-12 21:22:23\n",
       "2           42.0 2008-10-19 06:49:30\n",
       "3           43.0 2008-10-26 21:44:36\n",
       "4           44.0 2008-10-31 22:16:01"
      ]
     },
     "execution_count": 18,
     "metadata": {},
     "output_type": "execute_result"
    }
   ],
   "source": [
    "# напишите запрос\n",
    "query10 = '''\n",
    "WITH top_user AS (\n",
    "    SELECT user_id\n",
    "    FROM stackoverflow.posts\n",
    "    GROUP BY user_id\n",
    "    ORDER BY COUNT(*) DESC\n",
    "    LIMIT 1\n",
    "), \n",
    "user_posts AS (\n",
    "    SELECT\n",
    "        p.user_id,\n",
    "        p.creation_date,\n",
    "        EXTRACT(WEEK FROM p.creation_date) AS week_number,\n",
    "        ROW_NUMBER() OVER (PARTITION BY p.user_id, EXTRACT(WEEK FROM p.creation_date) ORDER BY p.creation_date DESC) AS post_rank\n",
    "    FROM stackoverflow.posts p\n",
    "    JOIN top_user u ON p.user_id = u.user_id\n",
    "    WHERE EXTRACT(YEAR FROM p.creation_date) = 2008 AND EXTRACT(MONTH FROM p.creation_date) = 10\n",
    ")\n",
    "\n",
    "SELECT\n",
    "    week_number AS week_creation,\n",
    "    MAX(creation_date) AS creation_date\n",
    "FROM user_posts\n",
    "WHERE post_rank = 1\n",
    "GROUP BY week_number\n",
    "ORDER BY week_number;\n",
    "'''\n",
    "\n",
    "# выполните запрос\n",
    "task10_df = pd.read_sql_query(query10, con=engine) \n",
    "task10_df"
   ]
  },
  {
   "cell_type": "code",
   "execution_count": null,
   "metadata": {},
   "outputs": [],
   "source": []
  }
 ],
 "metadata": {
  "ExecuteTimeLog": [
   {
    "duration": 1028,
    "start_time": "2023-10-18T10:09:20.122Z"
   },
   {
    "duration": 3,
    "start_time": "2023-10-18T10:09:21.153Z"
   },
   {
    "duration": 13625,
    "start_time": "2023-10-18T10:09:21.158Z"
   },
   {
    "duration": 269,
    "start_time": "2023-10-18T10:09:34.786Z"
   },
   {
    "duration": 15,
    "start_time": "2023-10-18T10:09:35.057Z"
   },
   {
    "duration": 243,
    "start_time": "2023-10-18T10:09:39.682Z"
   },
   {
    "duration": 113,
    "start_time": "2023-10-18T10:10:07.291Z"
   },
   {
    "duration": 125,
    "start_time": "2023-10-18T10:10:19.189Z"
   },
   {
    "duration": 112,
    "start_time": "2023-10-18T10:11:31.086Z"
   },
   {
    "duration": 130,
    "start_time": "2023-10-18T10:12:35.551Z"
   },
   {
    "duration": 141,
    "start_time": "2023-10-18T10:12:58.819Z"
   },
   {
    "duration": 113,
    "start_time": "2023-10-18T10:13:06.276Z"
   },
   {
    "duration": 114,
    "start_time": "2023-10-18T10:13:30.389Z"
   },
   {
    "duration": 189,
    "start_time": "2023-10-18T10:33:20.842Z"
   },
   {
    "duration": 1413,
    "start_time": "2023-10-18T10:33:38.195Z"
   },
   {
    "duration": 1412,
    "start_time": "2023-10-18T10:34:13.271Z"
   },
   {
    "duration": 1419,
    "start_time": "2023-10-18T10:34:41.547Z"
   },
   {
    "duration": 1365,
    "start_time": "2023-10-18T10:34:52.007Z"
   },
   {
    "duration": 1261,
    "start_time": "2023-10-18T10:37:03.238Z"
   },
   {
    "duration": 1542,
    "start_time": "2023-10-18T10:37:30.750Z"
   },
   {
    "duration": 1500,
    "start_time": "2023-10-18T10:38:30.553Z"
   },
   {
    "duration": 1361,
    "start_time": "2023-10-18T10:38:41.394Z"
   },
   {
    "duration": 4,
    "start_time": "2023-10-18T10:45:23.424Z"
   },
   {
    "duration": 143,
    "start_time": "2023-10-18T10:45:46.900Z"
   },
   {
    "duration": 167,
    "start_time": "2023-10-18T10:46:33.376Z"
   },
   {
    "duration": 151,
    "start_time": "2023-10-18T10:47:42.350Z"
   },
   {
    "duration": 151,
    "start_time": "2023-10-18T10:49:11.396Z"
   },
   {
    "duration": 167,
    "start_time": "2023-10-18T10:57:41.182Z"
   },
   {
    "duration": 17759,
    "start_time": "2023-10-18T11:02:01.735Z"
   },
   {
    "duration": 241657,
    "start_time": "2023-10-18T11:07:39.989Z"
   },
   {
    "duration": 45,
    "start_time": "2023-10-19T06:25:44.833Z"
   },
   {
    "duration": 917,
    "start_time": "2023-10-19T06:25:50.921Z"
   },
   {
    "duration": 5,
    "start_time": "2023-10-19T06:25:54.504Z"
   },
   {
    "duration": 11942,
    "start_time": "2023-10-19T06:25:55.705Z"
   },
   {
    "duration": 477,
    "start_time": "2023-10-19T06:26:07.648Z"
   },
   {
    "duration": 152,
    "start_time": "2023-10-19T06:26:33.618Z"
   },
   {
    "duration": 82,
    "start_time": "2023-10-19T06:26:43.198Z"
   },
   {
    "duration": 75,
    "start_time": "2023-10-19T06:28:13.614Z"
   },
   {
    "duration": 77,
    "start_time": "2023-10-19T06:31:14.036Z"
   },
   {
    "duration": 73,
    "start_time": "2023-10-19T06:31:36.990Z"
   },
   {
    "duration": 73,
    "start_time": "2023-10-19T06:31:52.128Z"
   },
   {
    "duration": 72,
    "start_time": "2023-10-19T06:32:04.147Z"
   },
   {
    "duration": 39,
    "start_time": "2023-10-19T06:32:16.749Z"
   },
   {
    "duration": 11,
    "start_time": "2023-10-19T06:32:17.557Z"
   },
   {
    "duration": 706,
    "start_time": "2023-10-19T06:32:43.319Z"
   },
   {
    "duration": 79,
    "start_time": "2023-10-19T06:34:02.779Z"
   },
   {
    "duration": 92,
    "start_time": "2023-10-19T06:34:12.214Z"
   },
   {
    "duration": 134,
    "start_time": "2023-10-19T06:35:14.906Z"
   },
   {
    "duration": 69,
    "start_time": "2023-10-19T06:35:25.805Z"
   },
   {
    "duration": 70,
    "start_time": "2023-10-19T06:36:02.783Z"
   },
   {
    "duration": 142,
    "start_time": "2023-10-19T06:41:12.211Z"
   },
   {
    "duration": 144,
    "start_time": "2023-10-19T06:43:36.590Z"
   },
   {
    "duration": 100,
    "start_time": "2023-10-19T06:44:46.943Z"
   },
   {
    "duration": 178,
    "start_time": "2023-10-19T06:46:47.753Z"
   },
   {
    "duration": 99,
    "start_time": "2023-10-19T06:46:55.549Z"
   },
   {
    "duration": 96,
    "start_time": "2023-10-19T06:47:09.959Z"
   },
   {
    "duration": 96,
    "start_time": "2023-10-19T06:47:45.606Z"
   },
   {
    "duration": 11,
    "start_time": "2023-10-19T06:50:13.446Z"
   },
   {
    "duration": 81,
    "start_time": "2023-10-19T06:50:22.401Z"
   },
   {
    "duration": 136,
    "start_time": "2023-10-19T06:50:53.417Z"
   },
   {
    "duration": 126,
    "start_time": "2023-10-19T06:51:05.532Z"
   },
   {
    "duration": 90,
    "start_time": "2023-10-19T06:51:27.712Z"
   },
   {
    "duration": 102,
    "start_time": "2023-10-19T06:53:00.622Z"
   },
   {
    "duration": 144,
    "start_time": "2023-10-19T06:53:43.414Z"
   },
   {
    "duration": 74,
    "start_time": "2023-10-19T06:56:17.725Z"
   },
   {
    "duration": 73,
    "start_time": "2023-10-19T06:56:53.620Z"
   },
   {
    "duration": 1420,
    "start_time": "2023-10-19T07:02:36.228Z"
   },
   {
    "duration": 1349,
    "start_time": "2023-10-19T07:04:19.978Z"
   },
   {
    "duration": 201,
    "start_time": "2023-10-19T07:06:03.707Z"
   },
   {
    "duration": 148,
    "start_time": "2023-10-19T07:06:54.543Z"
   },
   {
    "duration": 403,
    "start_time": "2023-10-19T07:07:57.530Z"
   },
   {
    "duration": 418,
    "start_time": "2023-10-19T07:09:13.921Z"
   },
   {
    "duration": 434,
    "start_time": "2023-10-19T07:10:23.792Z"
   },
   {
    "duration": 546,
    "start_time": "2023-10-19T07:14:19.186Z"
   },
   {
    "duration": 274,
    "start_time": "2023-10-19T07:15:25.753Z"
   },
   {
    "duration": 234,
    "start_time": "2023-10-19T07:16:41.621Z"
   },
   {
    "duration": 349,
    "start_time": "2023-10-19T07:18:32.513Z"
   },
   {
    "duration": 211,
    "start_time": "2023-10-19T07:19:06.622Z"
   },
   {
    "duration": 201,
    "start_time": "2023-10-19T07:20:06.842Z"
   },
   {
    "duration": 155,
    "start_time": "2023-10-19T07:23:03.260Z"
   },
   {
    "duration": 183,
    "start_time": "2023-10-19T07:25:36.498Z"
   },
   {
    "duration": 172,
    "start_time": "2023-10-19T07:27:16.157Z"
   },
   {
    "duration": 288,
    "start_time": "2023-10-19T07:27:35.408Z"
   },
   {
    "duration": 235,
    "start_time": "2023-10-19T07:28:32.741Z"
   },
   {
    "duration": 310,
    "start_time": "2023-10-19T07:29:59.457Z"
   },
   {
    "duration": 148,
    "start_time": "2023-10-19T07:31:50.046Z"
   },
   {
    "duration": 141,
    "start_time": "2023-10-19T07:32:39.116Z"
   },
   {
    "duration": 175,
    "start_time": "2023-10-19T07:33:45.186Z"
   },
   {
    "duration": 175,
    "start_time": "2023-10-19T07:34:20.786Z"
   },
   {
    "duration": 163,
    "start_time": "2023-10-19T07:35:27.642Z"
   },
   {
    "duration": 140,
    "start_time": "2023-10-19T07:36:11.724Z"
   },
   {
    "duration": 339,
    "start_time": "2023-10-19T07:36:40.684Z"
   },
   {
    "duration": 531,
    "start_time": "2023-10-19T07:38:20.346Z"
   },
   {
    "duration": 497,
    "start_time": "2023-10-19T07:38:27.348Z"
   },
   {
    "duration": 378,
    "start_time": "2023-10-19T07:38:38.018Z"
   },
   {
    "duration": 484,
    "start_time": "2023-10-19T07:44:53.276Z"
   },
   {
    "duration": 435,
    "start_time": "2023-10-19T07:47:50.170Z"
   },
   {
    "duration": 100,
    "start_time": "2023-10-19T16:17:01.760Z"
   },
   {
    "duration": 3,
    "start_time": "2023-10-19T16:18:28.604Z"
   },
   {
    "duration": 108,
    "start_time": "2023-10-19T16:19:26.603Z"
   },
   {
    "duration": 102,
    "start_time": "2023-10-19T16:19:30.227Z"
   },
   {
    "duration": 187,
    "start_time": "2023-10-19T16:28:25.683Z"
   },
   {
    "duration": 170,
    "start_time": "2023-10-19T16:29:55.450Z"
   },
   {
    "duration": 166,
    "start_time": "2023-10-19T16:30:42.808Z"
   },
   {
    "duration": 165,
    "start_time": "2023-10-19T16:31:14.135Z"
   },
   {
    "duration": 3,
    "start_time": "2023-10-19T16:31:54.778Z"
   },
   {
    "duration": 16,
    "start_time": "2023-10-19T16:31:54.783Z"
   },
   {
    "duration": 15,
    "start_time": "2023-10-19T16:31:54.800Z"
   },
   {
    "duration": 220,
    "start_time": "2023-10-19T16:31:54.816Z"
   },
   {
    "duration": 11,
    "start_time": "2023-10-19T16:31:55.037Z"
   },
   {
    "duration": 122,
    "start_time": "2023-10-19T16:31:55.050Z"
   },
   {
    "duration": 150,
    "start_time": "2023-10-19T16:31:55.174Z"
   },
   {
    "duration": 1584,
    "start_time": "2023-10-20T09:12:32.723Z"
   },
   {
    "duration": 4,
    "start_time": "2023-10-20T09:12:34.309Z"
   },
   {
    "duration": 12260,
    "start_time": "2023-10-20T09:12:34.315Z"
   },
   {
    "duration": 213,
    "start_time": "2023-10-20T09:12:46.578Z"
   },
   {
    "duration": 17,
    "start_time": "2023-10-20T09:12:46.793Z"
   },
   {
    "duration": 130,
    "start_time": "2023-10-20T09:12:46.812Z"
   },
   {
    "duration": 148,
    "start_time": "2023-10-20T09:12:46.945Z"
   },
   {
    "duration": 246125,
    "start_time": "2023-10-20T09:12:47.095Z"
   },
   {
    "duration": 1331,
    "start_time": "2023-10-20T09:16:53.221Z"
   },
   {
    "duration": 96,
    "start_time": "2023-10-20T09:16:54.558Z"
   },
   {
    "duration": 69,
    "start_time": "2023-10-20T09:16:54.656Z"
   },
   {
    "duration": 1481,
    "start_time": "2023-10-20T09:16:54.728Z"
   },
   {
    "duration": 334,
    "start_time": "2023-10-20T09:16:56.211Z"
   },
   {
    "duration": 468,
    "start_time": "2023-10-20T09:16:56.546Z"
   },
   {
    "duration": 3,
    "start_time": "2023-10-20T09:16:57.015Z"
   },
   {
    "duration": 104,
    "start_time": "2023-10-20T09:16:57.020Z"
   },
   {
    "duration": 107,
    "start_time": "2023-10-20T09:16:57.126Z"
   },
   {
    "duration": 173,
    "start_time": "2023-10-20T09:16:57.235Z"
   },
   {
    "duration": 153,
    "start_time": "2023-10-20T09:30:35.395Z"
   },
   {
    "duration": 293,
    "start_time": "2023-10-20T09:33:30.509Z"
   },
   {
    "duration": 81,
    "start_time": "2023-10-20T09:33:36.812Z"
   },
   {
    "duration": 70,
    "start_time": "2023-10-20T09:34:38.292Z"
   },
   {
    "duration": 72,
    "start_time": "2023-10-20T09:36:10.827Z"
   },
   {
    "duration": 167,
    "start_time": "2023-10-20T09:40:03.782Z"
   },
   {
    "duration": 172,
    "start_time": "2023-10-20T09:40:08.372Z"
   },
   {
    "duration": 170,
    "start_time": "2023-10-20T09:40:15.851Z"
   },
   {
    "duration": 170,
    "start_time": "2023-10-20T09:40:17.453Z"
   },
   {
    "duration": 1397,
    "start_time": "2023-10-20T09:40:46.302Z"
   },
   {
    "duration": 3,
    "start_time": "2023-10-20T09:40:47.701Z"
   },
   {
    "duration": 11825,
    "start_time": "2023-10-20T09:40:47.707Z"
   },
   {
    "duration": 206,
    "start_time": "2023-10-20T09:40:59.534Z"
   },
   {
    "duration": 15,
    "start_time": "2023-10-20T09:40:59.742Z"
   },
   {
    "duration": 115,
    "start_time": "2023-10-20T09:40:59.759Z"
   },
   {
    "duration": 153,
    "start_time": "2023-10-20T09:40:59.875Z"
   },
   {
    "duration": 242177,
    "start_time": "2023-10-20T09:41:00.030Z"
   },
   {
    "duration": 1280,
    "start_time": "2023-10-20T09:45:02.209Z"
   },
   {
    "duration": 95,
    "start_time": "2023-10-20T09:45:03.492Z"
   },
   {
    "duration": 68,
    "start_time": "2023-10-20T09:45:03.589Z"
   },
   {
    "duration": 1269,
    "start_time": "2023-10-20T09:45:03.659Z"
   },
   {
    "duration": 343,
    "start_time": "2023-10-20T09:45:04.930Z"
   },
   {
    "duration": 411,
    "start_time": "2023-10-20T09:45:05.274Z"
   },
   {
    "duration": 2,
    "start_time": "2023-10-20T09:45:05.687Z"
   },
   {
    "duration": 124,
    "start_time": "2023-10-20T09:45:05.691Z"
   },
   {
    "duration": 132,
    "start_time": "2023-10-20T09:45:05.817Z"
   },
   {
    "duration": 173,
    "start_time": "2023-10-20T09:45:05.953Z"
   },
   {
    "duration": 53,
    "start_time": "2023-10-23T09:26:57.307Z"
   },
   {
    "duration": 1531,
    "start_time": "2023-10-23T09:27:03.620Z"
   },
   {
    "duration": 5,
    "start_time": "2023-10-23T09:27:05.156Z"
   },
   {
    "duration": 11828,
    "start_time": "2023-10-23T09:27:05.162Z"
   },
   {
    "duration": 48,
    "start_time": "2023-10-23T09:27:16.993Z"
   },
   {
    "duration": 19,
    "start_time": "2023-10-23T09:27:17.042Z"
   },
   {
    "duration": 121,
    "start_time": "2023-10-23T09:27:17.063Z"
   },
   {
    "duration": 123,
    "start_time": "2023-10-23T09:27:17.186Z"
   },
   {
    "duration": 123,
    "start_time": "2023-10-23T09:27:17.310Z"
   },
   {
    "duration": 42,
    "start_time": "2023-10-23T09:37:02.420Z"
   },
   {
    "duration": 379,
    "start_time": "2023-10-23T09:41:45.452Z"
   },
   {
    "duration": 1522,
    "start_time": "2023-10-23T09:42:32.108Z"
   },
   {
    "duration": 1515,
    "start_time": "2023-10-23T09:44:44.203Z"
   },
   {
    "duration": 1594,
    "start_time": "2023-10-23T09:45:59.779Z"
   },
   {
    "duration": 14,
    "start_time": "2023-10-23T09:50:58.538Z"
   },
   {
    "duration": 304,
    "start_time": "2023-10-23T09:51:02.162Z"
   },
   {
    "duration": 492,
    "start_time": "2023-10-23T09:51:05.737Z"
   },
   {
    "duration": 429,
    "start_time": "2023-10-23T09:52:25.590Z"
   },
   {
    "duration": 445,
    "start_time": "2023-10-23T09:52:36.199Z"
   },
   {
    "duration": 448,
    "start_time": "2023-10-23T09:54:37.919Z"
   },
   {
    "duration": 4,
    "start_time": "2023-10-23T09:57:16.664Z"
   },
   {
    "duration": 10,
    "start_time": "2023-10-23T09:57:16.670Z"
   },
   {
    "duration": 8,
    "start_time": "2023-10-23T09:57:16.682Z"
   },
   {
    "duration": 57,
    "start_time": "2023-10-23T09:57:16.693Z"
   },
   {
    "duration": 12,
    "start_time": "2023-10-23T09:57:16.752Z"
   },
   {
    "duration": 92,
    "start_time": "2023-10-23T09:57:16.766Z"
   },
   {
    "duration": 121,
    "start_time": "2023-10-23T09:57:16.860Z"
   },
   {
    "duration": 1330,
    "start_time": "2023-10-23T10:00:20.286Z"
   },
   {
    "duration": 3,
    "start_time": "2023-10-23T10:00:21.619Z"
   },
   {
    "duration": 16421,
    "start_time": "2023-10-23T10:00:21.624Z"
   },
   {
    "duration": 45,
    "start_time": "2023-10-23T10:00:38.049Z"
   },
   {
    "duration": 18,
    "start_time": "2023-10-23T10:00:38.096Z"
   },
   {
    "duration": 129,
    "start_time": "2023-10-23T10:00:38.116Z"
   },
   {
    "duration": 122,
    "start_time": "2023-10-23T10:00:38.247Z"
   },
   {
    "duration": 248935,
    "start_time": "2023-10-23T10:00:38.371Z"
   },
   {
    "duration": 1420,
    "start_time": "2023-10-23T10:04:47.308Z"
   },
   {
    "duration": 65,
    "start_time": "2023-10-23T10:04:48.731Z"
   },
   {
    "duration": 45,
    "start_time": "2023-10-23T10:04:48.798Z"
   },
   {
    "duration": 1429,
    "start_time": "2023-10-23T10:04:48.846Z"
   },
   {
    "duration": 303,
    "start_time": "2023-10-23T10:04:50.277Z"
   },
   {
    "duration": 419,
    "start_time": "2023-10-23T10:04:50.582Z"
   },
   {
    "duration": 4,
    "start_time": "2023-10-23T10:04:51.003Z"
   },
   {
    "duration": 90,
    "start_time": "2023-10-23T10:04:51.009Z"
   },
   {
    "duration": 119,
    "start_time": "2023-10-23T10:04:51.101Z"
   },
   {
    "duration": 141,
    "start_time": "2023-10-23T10:04:51.223Z"
   },
   {
    "duration": 1335,
    "start_time": "2023-10-23T14:22:34.094Z"
   },
   {
    "duration": 4,
    "start_time": "2023-10-23T14:22:35.431Z"
   },
   {
    "duration": 15301,
    "start_time": "2023-10-23T14:22:35.436Z"
   },
   {
    "duration": 100,
    "start_time": "2023-10-23T14:22:50.739Z"
   },
   {
    "duration": 30,
    "start_time": "2023-10-23T14:22:50.841Z"
   },
   {
    "duration": 116,
    "start_time": "2023-10-23T14:22:50.873Z"
   },
   {
    "duration": 124,
    "start_time": "2023-10-23T14:22:50.990Z"
   },
   {
    "duration": 243941,
    "start_time": "2023-10-23T14:22:51.117Z"
   },
   {
    "duration": 1526,
    "start_time": "2023-10-23T14:26:55.060Z"
   },
   {
    "duration": 105,
    "start_time": "2023-10-23T14:26:56.588Z"
   },
   {
    "duration": 40,
    "start_time": "2023-10-23T14:26:56.694Z"
   },
   {
    "duration": 1517,
    "start_time": "2023-10-23T14:26:56.736Z"
   },
   {
    "duration": 335,
    "start_time": "2023-10-23T14:26:58.261Z"
   },
   {
    "duration": 511,
    "start_time": "2023-10-23T14:26:58.599Z"
   },
   {
    "duration": 3,
    "start_time": "2023-10-23T14:26:59.111Z"
   },
   {
    "duration": 142,
    "start_time": "2023-10-23T14:26:59.116Z"
   },
   {
    "duration": 134,
    "start_time": "2023-10-23T14:26:59.260Z"
   },
   {
    "duration": 135,
    "start_time": "2023-10-23T14:26:59.400Z"
   },
   {
    "duration": 59,
    "start_time": "2023-10-23T14:29:18.554Z"
   },
   {
    "duration": 48,
    "start_time": "2023-10-23T14:29:22.514Z"
   },
   {
    "duration": 39,
    "start_time": "2023-10-23T14:29:40.678Z"
   },
   {
    "duration": 60,
    "start_time": "2023-10-23T14:29:43.123Z"
   },
   {
    "duration": 1455,
    "start_time": "2023-10-23T14:32:20.572Z"
   },
   {
    "duration": 4,
    "start_time": "2023-10-23T14:32:22.029Z"
   },
   {
    "duration": 15724,
    "start_time": "2023-10-23T14:32:22.034Z"
   },
   {
    "duration": 65,
    "start_time": "2023-10-23T14:32:37.759Z"
   },
   {
    "duration": 20,
    "start_time": "2023-10-23T14:32:37.827Z"
   },
   {
    "duration": 133,
    "start_time": "2023-10-23T14:32:37.853Z"
   },
   {
    "duration": 119,
    "start_time": "2023-10-23T14:32:37.988Z"
   },
   {
    "duration": 252225,
    "start_time": "2023-10-23T14:32:38.109Z"
   },
   {
    "duration": 1472,
    "start_time": "2023-10-23T14:36:50.336Z"
   },
   {
    "duration": 81,
    "start_time": "2023-10-23T14:36:51.810Z"
   },
   {
    "duration": 41,
    "start_time": "2023-10-23T14:36:51.893Z"
   },
   {
    "duration": 1496,
    "start_time": "2023-10-23T14:36:51.936Z"
   },
   {
    "duration": 319,
    "start_time": "2023-10-23T14:36:53.434Z"
   },
   {
    "duration": 470,
    "start_time": "2023-10-23T14:36:53.757Z"
   },
   {
    "duration": 3,
    "start_time": "2023-10-23T14:36:54.229Z"
   },
   {
    "duration": 107,
    "start_time": "2023-10-23T14:36:54.233Z"
   },
   {
    "duration": 159,
    "start_time": "2023-10-23T14:36:54.342Z"
   },
   {
    "duration": 135,
    "start_time": "2023-10-23T14:36:54.505Z"
   }
  ],
  "colab": {
   "provenance": []
  },
  "kernelspec": {
   "display_name": "Python 3 (ipykernel)",
   "language": "python",
   "name": "python3"
  },
  "language_info": {
   "codemirror_mode": {
    "name": "ipython",
    "version": 3
   },
   "file_extension": ".py",
   "mimetype": "text/x-python",
   "name": "python",
   "nbconvert_exporter": "python",
   "pygments_lexer": "ipython3",
   "version": "3.8.18"
  },
  "toc": {
   "base_numbering": 1,
   "nav_menu": {},
   "number_sections": true,
   "sideBar": true,
   "skip_h1_title": true,
   "title_cell": "Table of Contents",
   "title_sidebar": "Contents",
   "toc_cell": false,
   "toc_position": {},
   "toc_section_display": true,
   "toc_window_display": false
  }
 },
 "nbformat": 4,
 "nbformat_minor": 1
}
